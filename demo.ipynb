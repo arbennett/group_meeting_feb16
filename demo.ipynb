{
 "cells": [
  {
   "cell_type": "code",
   "execution_count": null,
   "id": "fe4a1dc7-14d9-4d46-8374-0ad446903404",
   "metadata": {},
   "outputs": [],
   "source": [
    "!pip install -q zarr dask[distributed] intake xarray fsspec aiohttp regionmask --upgrade\n",
    "!pip install -q git+https://github.com/carbonplan/cmip6-downscaling.git@1.0"
   ]
  },
  {
   "cell_type": "code",
   "execution_count": null,
   "id": "d09c7404-4fa9-4aa6-8eb0-1005dd9a9eb6",
   "metadata": {},
   "outputs": [],
   "source": [
    "import xarray as xr\n",
    "import numpy as np\n",
    "import matplotlib.pyplot as plt\n",
    "from dask.diagnostics import ProgressBar\n",
    "base_url = 'https://esiptutorial.blob.core.windows.net/eraswe'"
   ]
  },
  {
   "cell_type": "code",
   "execution_count": null,
   "id": "577e7099-2a0b-4bb0-9be0-17f9f8a071ab",
   "metadata": {},
   "outputs": [],
   "source": [
    "years = np.arange(1985, 2015)\n",
    "swe_files = [f'{base_url}/era5_raw_swe/era5_raw_swe_{y}.zarr' for y in years]\n",
    "ds = xr.open_mfdataset(swe_files, engine='zarr')\n",
    "\n",
    "mask = xr.open_dataset(f'{base_url}/mask_10k_household.zarr', engine='zarr')\n",
    "mask = mask.rename({'sd': 'mask'})\n",
    "\n",
    "terrain = xr.open_dataset(f'{base_url}/processed_slope_aspect_elevation.zarr', engine='zarr')\n",
    "terrain = terrain.rename({'lat': 'latitude', 'lon': 'longitude'})\n",
    "\n",
    "ds = xr.merge([ds, mask, terrain])\n",
    "\n",
    "print(f\"This data is {ds.nbytes / 1e9} GB!\")\n",
    "print(\"--------------------------------------\")\n",
    "ds"
   ]
  },
  {
   "cell_type": "code",
   "execution_count": null,
   "id": "3d1a89f5-1918-454b-8b3c-98850d1ec4e2",
   "metadata": {},
   "outputs": [],
   "source": [
    "rainier_lat, rainier_lon = 46.85, 121.76\n",
    "with ProgressBar():\n",
    "    ds['sd'].sel(\n",
    "        latitude=rainier_lat, \n",
    "        longitude=rainier_lon, \n",
    "        method='nearest'\n",
    "    ).plot()"
   ]
  },
  {
   "cell_type": "code",
   "execution_count": null,
   "id": "ec4e197d-7f32-4e30-85aa-51a658bbbdf1",
   "metadata": {},
   "outputs": [],
   "source": [
    "year = '2005'\n",
    "with ProgressBar():\n",
    "    swe_year = ds['sd'].sel(time=year)\n",
    "    (swe_year.groupby(swe_year.time.dt.season)\n",
    "             .mean()\n",
    "             .plot(col='season', col_wrap=2, vmin=0, vmax=0.1))"
   ]
  },
  {
   "cell_type": "code",
   "execution_count": null,
   "id": "1c92e5bf-222c-4a14-b06a-7c97b0823bcb",
   "metadata": {},
   "outputs": [],
   "source": []
  },
  {
   "cell_type": "code",
   "execution_count": null,
   "id": "2c716183-bb20-4b60-89aa-ff74142fd649",
   "metadata": {},
   "outputs": [],
   "source": []
  }
 ],
 "metadata": {
  "kernelspec": {
   "display_name": "Python [conda env:notebook] *",
   "language": "python",
   "name": "conda-env-notebook-py"
  },
  "language_info": {
   "codemirror_mode": {
    "name": "ipython",
    "version": 3
   },
   "file_extension": ".py",
   "mimetype": "text/x-python",
   "name": "python",
   "nbconvert_exporter": "python",
   "pygments_lexer": "ipython3",
   "version": "3.10.6"
  }
 },
 "nbformat": 4,
 "nbformat_minor": 5
}
